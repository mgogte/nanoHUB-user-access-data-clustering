{
 "cells": [
  {
   "cell_type": "code",
   "execution_count": null,
   "metadata": {
    "collapsed": false
   },
   "outputs": [],
   "source": [
    "#import packages\n",
    "from sklearn.utils import shuffle\n",
    "import pandas as pd\n",
    "import csv\n",
    "from haversine import haversine\n",
    "import datetime"
   ]
  },
  {
   "cell_type": "code",
   "execution_count": null,
   "metadata": {
    "collapsed": false
   },
   "outputs": [],
   "source": [
    "#creating dataframe from input CSV\n",
    "df = pd.DataFrame.from_csv('D:/Nanohub/results/Final results/data_extract/in_STDB_2011_1.csv', sep =',', encoding = 'UTF-8', header = None)\n",
    "df.columns = ['ip','child_id','datetime','latitude','longitude','parent_id']\n",
    "df['datetime'] = pd.to_datetime(df['datetime'])\n",
    "df = df.sort_values(by = 'child_id', axis = 0, ascending = True, na_position ='first')\n",
    "#df.drop_duplicates(subset = ['ip','resource_id'], keep = 'first')\n",
    "doy = []\n",
    "for date in df['datetime']:\n",
    "    doy.append(date.dayofyear)\n",
    "df['DoY'] = doy\n",
    "df_10 = df[df.groupby('child_id').cumcount(ascending=False) >= 10]\n"
   ]
  },
  {
   "cell_type": "code",
   "execution_count": null,
   "metadata": {
    "collapsed": false
   },
   "outputs": [],
   "source": [
    "distinct_resources = list(df_10['child_id'].unique())\n",
    "#distinct_resources #uncomment to test"
   ]
  },
  {
   "cell_type": "code",
   "execution_count": null,
   "metadata": {
    "collapsed": false
   },
   "outputs": [],
   "source": [
    "#Implementation of ST_DBSCAN\n",
    "\n",
    "def ST_DBSCAN(points,max_distance,MinPts,dayRadius):\n",
    "    global visited \n",
    "    visited = []\n",
    "    noise = []\n",
    "    c_neighbors = []\n",
    "    cluster_id = 0\n",
    "    clusters = []\n",
    "    in_cluster = []\n",
    "    for p in points: \n",
    "        if p not in visited:\n",
    "            #print(p)\n",
    "            # neighbor_points = []\n",
    "            visited.append(p)\n",
    "            NeighborPts = regionQuery(p,points,max_distance,dayRadius)\n",
    "            #print(len(NeighborPts))\n",
    "            if len(NeighborPts) < MinPts:\n",
    "                noise.append(p)\n",
    "            else:\n",
    "                cluster_id = cluster_id + 1\n",
    "                g,n = expandCluster(p,NeighborPts,max_distance,MinPts,in_cluster,cluster_id)\n",
    "                #print(g)\n",
    "                clusters.append(g)\n",
    "                #c_neighbors=NeighborPts\n",
    "                #print(c_neighbors)\n",
    "                c_neighbors.append(n)\n",
    "    return clusters, c_neighbors\n",
    "\n",
    "def regionQuery(p,points,max_distance,dayRadius):\n",
    "    neighbor_points = []\n",
    "    loc1 = (p[0],p[1])\n",
    "    for j in points:\n",
    "        if j != p:\n",
    "            # print 'P is %s and j is %s' % (p[0],j[0])\n",
    "            if abs(p[2]-j[2]) < dayRadius:\n",
    "                loc2 = (j[0],j[1])\n",
    "                dist = haversine(loc1, loc2)\n",
    "                if dist <= max_distance:\n",
    "                    neighbor_points.append(j)\n",
    "    neighbor_points.append(p) \n",
    "    return neighbor_points   \n",
    "\n",
    "def expandCluster(p,NeighborPts,max_distance,MinPts,in_cluster,cluster_id):\n",
    "    in_cluster.append(p)\n",
    "    cluster = []\n",
    "    neighbour = []\n",
    "    t_p = list(p) + [cluster_id]\n",
    "    cluster.append(t_p)\n",
    "    for point in NeighborPts:\n",
    "        if point not in visited:\n",
    "            visited.append(point)\n",
    "            new_neighbors = regionQuery(point,points,max_distance,dayRadius)\n",
    "            if len(new_neighbors) >= MinPts: \n",
    "                n_point = list(point) + [cluster_id]\n",
    "                neighbour.append(n_point)\n",
    "            if point not in in_cluster:\n",
    "                 t_point = list(point) + [cluster_id]\n",
    "                 in_cluster.append(point)\n",
    "                 cluster.append(t_point)\n",
    "    return cluster, neighbour\n"
   ]
  },
  {
   "cell_type": "code",
   "execution_count": null,
   "metadata": {
    "collapsed": false
   },
   "outputs": [],
   "source": [
    "df_filtered = df_10[df_10['child_id'] == 1]\n",
    "df_filtered =df_filtered[df_filtered['latitude'] > 0]\n",
    "points = df_filtered.set_index(['latitude'])[['longitude','DoY','child_id','ip','parent_id']].to_records().tolist()\n",
    "#points #uncomment to test"
   ]
  },
  {
   "cell_type": "code",
   "execution_count": null,
   "metadata": {
    "collapsed": false
   },
   "outputs": [],
   "source": [
    "#write to clustered points to two files - cores and neighs\n",
    "\n",
    "# hyperparameters\n",
    "max_distance = 50\n",
    "MaxPts = 10\n",
    "dayRadius = 7\n",
    "# end hyperparameters\n",
    "\n",
    "core, neigh = ST_DBSCAN(points,max_distance,MaxPts,dayRadius)\n",
    "for l in distinct_resources: #\n",
    "    df_filtered = df_10[df_10['child_id'] == l]\n",
    "    #print(df_filtered)\n",
    "    df_filtered =df_filtered[df_filtered['latitude'] > 0]\n",
    "    #print(df_filtered.set_index(['latitude'])[['longitude','DoY','resource_id','ip','child_id']].to_records().tolist())\n",
    "    points = df_filtered.set_index(['latitude'])[['longitude','DoY','child_id','ip','parent_id']].to_records().tolist()\n",
    "    \n",
    "    core, neigh = ST_DBSCAN(points,max_distance,MaxPts,dayRadius)\n",
    "    \n",
    "    fc_name = 'D:/Nanohub/results/Final Results/cores/cores_2011.csv'\n",
    "    \n",
    "    fc = open(fc_name, 'a')\n",
    "    try:\n",
    "        writer = csv.writer(fc, lineterminator = '\\n')\n",
    "\n",
    "        for j in range(len(core)):\n",
    "            for i in range(len(core[j])):\n",
    "                    writer.writerow( core[j][i] )\n",
    "    finally:\n",
    "        fc.close()\n",
    "    \n",
    "    fn_name = 'D:/Nanohub/results/Final Results/neighbors/neigh_2011.csv'\n",
    "    \n",
    "    fn = open(fn_name, 'a')\n",
    "    try:\n",
    "        writer = csv.writer(fn, lineterminator = '\\n')\n",
    "\n",
    "        for j in range(len(neigh)):\n",
    "            for i in range(len(neigh[j])):\n",
    "                    writer.writerow( neigh[j][i] )\n",
    "    finally:\n",
    "        fn.close()\n",
    "    "
   ]
  }
 ],
 "metadata": {
  "anaconda-cloud": {},
  "kernelspec": {
   "display_name": "Python [conda root]",
   "language": "python",
   "name": "conda-root-py"
  },
  "language_info": {
   "codemirror_mode": {
    "name": "ipython",
    "version": 3
   },
   "file_extension": ".py",
   "mimetype": "text/x-python",
   "name": "python",
   "nbconvert_exporter": "python",
   "pygments_lexer": "ipython3",
   "version": "3.5.2"
  }
 },
 "nbformat": 4,
 "nbformat_minor": 1
}
