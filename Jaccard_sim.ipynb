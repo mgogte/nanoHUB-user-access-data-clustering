{
 "cells": [
  {
   "cell_type": "code",
   "execution_count": null,
   "metadata": {
    "collapsed": true
   },
   "outputs": [],
   "source": [
    "import pandas as pd\n",
    "import csv\n",
    "import numpy as np\n",
    "import time "
   ]
  },
  {
   "cell_type": "code",
   "execution_count": null,
   "metadata": {
    "collapsed": false
   },
   "outputs": [],
   "source": [
    "#create dataframe from input file\n",
    "df = pd.DataFrame.from_csv('D:/Nanohub/results/GIS_2011_core_neigh_child/cores_neigh_jacc_2011.csv', sep =',', header = None, index_col = False)\n",
    "df.columns = ['latlon','latcomlon','doy','parent_id','ip','child_id','cluster_id']\n",
    "\n",
    "\n",
    "uniq_latlon = df['latlon'].unique().tolist()\n",
    "uniq_childID = df['child_id'].unique().tolist()\n",
    "uniq_latcomlon = df['latcomlon'].unique().tolist()\n",
    "uniq_IP = df['ip'].unique().tolist()"
   ]
  },
  {
   "cell_type": "code",
   "execution_count": null,
   "metadata": {
    "collapsed": false
   },
   "outputs": [],
   "source": [
    "#create Jaccard matrix\n",
    "jacc_sims = np.zeros((len(uniq_childID),len(uniq_latlon)))\n",
    "for i in range(len(uniq_latlon)):\n",
    "    curr =  df[df['latlon'] == uniq_latlon[i]]\n",
    "    #print(curr)\n",
    "    for j in range(len(uniq_childID)):\n",
    "        if( uniq_childID[j] in curr['child_id'].values):\n",
    "            #print(j,i)\n",
    "            jacc_sims[j][i] = 1"
   ]
  },
  {
   "cell_type": "code",
   "execution_count": null,
   "metadata": {
    "collapsed": false
   },
   "outputs": [],
   "source": [
    "#print info\n",
    "print('number of unique resources in 2011:',len(uniq_childID))\n",
    "print('number of unique locations in 2011:',len(uniq_latlon))\n",
    "print('dimensions of similarity matrix:',jacc_sims.shape)"
   ]
  },
  {
   "cell_type": "code",
   "execution_count": null,
   "metadata": {
    "collapsed": false
   },
   "outputs": [],
   "source": [
    "#test to see if matrix got initialized\n",
    "jacc_sims[59]"
   ]
  },
  {
   "cell_type": "code",
   "execution_count": null,
   "metadata": {
    "collapsed": false
   },
   "outputs": [],
   "source": [
    "#incorrect\n",
    "#Jaccard similarity using Scikit learn seems to be giving incorrect results\n",
    "f = open('D:/Nanohub/results/GIS_2011_core_neigh_child/sim_jacc_row.csv','w')\n",
    "writer = csv.writer(f,lineterminator = '\\n')\n",
    "\n",
    "from sklearn.metrics import jaccard_similarity_score\n",
    "for j in range(len(jacc_sims)):\n",
    "    simres = []\n",
    "    for i in range(len(jacc_sims)):\n",
    "        jacc_sim = jaccard_similarity_score(jacc_sims[j], jacc_sims[i])\n",
    "        if jacc_sim > 0.8 and i!=j:\n",
    "            #print(uniq_childID[i], jacc_sim)\n",
    "            simres.append(uniq_childID[i])\n",
    "    writer.writerow(simres)\n",
    "f.close()\n"
   ]
  },
  {
   "cell_type": "code",
   "execution_count": null,
   "metadata": {
    "collapsed": false
   },
   "outputs": [],
   "source": [
    "#direct implementation of Jaccard index\n",
    "f = open('D:/Nanohub/results/GIS_2011_core_neigh_child/sim_jacc_2011.csv','w')\n",
    "writer = csv.writer(f,lineterminator = '\\n')\n",
    "for j in range(len(jacc_sims)):\n",
    "    res1 = jacc_sims[j]\n",
    "    \n",
    "    for i in range(len(jacc_sims)):\n",
    "        all_1 = 0\n",
    "        union_1 = 0\n",
    "        GPS = []\n",
    "        if i!=j:\n",
    "            res2 = jacc_sims[i]\n",
    "            #print(res1,res2)\n",
    "            for k in range(len(res2)):\n",
    "                if res1[k] == res2[k] and res1[k] == 1:\n",
    "                    union_1 += 2\n",
    "                    GPS.append(uniq_latcomlon[k])\n",
    "                all_1 = all_1 + res1[k] + res2[k]\n",
    "            jacc_sim = float(union_1/all_1)\n",
    "            if jacc_sim> 0.8:\n",
    "                tup = ( uniq_childID[j],uniq_childID[i], jacc_sim, GPS)\n",
    "                writer.writerow(tup)"
   ]
  }
 ],
 "metadata": {
  "anaconda-cloud": {},
  "kernelspec": {
   "display_name": "Python [conda root]",
   "language": "python",
   "name": "conda-root-py"
  },
  "language_info": {
   "codemirror_mode": {
    "name": "ipython",
    "version": 3
   },
   "file_extension": ".py",
   "mimetype": "text/x-python",
   "name": "python",
   "nbconvert_exporter": "python",
   "pygments_lexer": "ipython3",
   "version": "3.5.2"
  }
 },
 "nbformat": 4,
 "nbformat_minor": 1
}
